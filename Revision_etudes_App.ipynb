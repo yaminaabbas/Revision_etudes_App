{
 "cells": [
  {
   "cell_type": "markdown",
   "metadata": {},
   "source": [
    "\n",
    "\n",
    "### Application de Révision d'Études\n",
    "\n",
    "\n",
    "**User Stories**\n",
    "- When I start up the application, I am given a choice between the following options:\n",
    "    - Begin a review session\n",
    "    - Add a new question to the list\n",
    "- If I choose to add a new question, I am asked to provide:\n",
    "    - The question text\n",
    "    - A list of possible responses separated by commas\n",
    "    - Designation of which response is correct\n",
    "    - A list of topic tags separated by commas\n",
    "- If I choose to start a review session:\n",
    "    - The program presents a random question from the question list\n",
    "    - I am provided the question text and all response options with labels \n",
    "    - I am prompted to provide my response using the labels presented\n",
    "    - The program informs me of the correct answer\n",
    "    - I am prompted to choose whether to continue the session or quit\n",
    "\n",
    "**Technical requirements**\n",
    "- Store the list of created questions in a .csv file\n",
    "- Load the previously created questions when the user initializes the application\n"
   ]
  },
  {
   "cell_type": "markdown",
   "metadata": {},
   "source": [
    "## Define functions to be used in the app"
   ]
  },
  {
   "cell_type": "code",
   "execution_count": 1,
   "metadata": {},
   "outputs": [],
   "source": [
    "import csv\n",
    "\n",
    "def create_csv():\n",
    "    try:\n",
    "        questions = open('questions.csv')\n",
    "        questions.close()\n",
    "    except FileNotFoundError:\n",
    "        with open('questions.csv', 'w', newline='') as questions_csv:\n",
    "            fieldnames = ['Question', 'Answer Options', 'Correct Answer', 'Topic(s)']\n",
    "            writer = csv.DictWriter(questions_csv, fieldnames=fieldnames)\n",
    "            writer.writeheader()\n",
    "            \n",
    "def add_question(csv_file = 'questions.csv'):\n",
    "    # Access the questions.csv file and prompt the user for input to create a new question\n",
    "    # Use a similar loop to the main application loop to ensure valid input\n",
    "   \n",
    "    question = input('What question do you want to add?\\n')\n",
    "    answer_options = input('What are some possible responses?\\n')\n",
    "    correct_answer = input('What is the correct answer?\\n')\n",
    "    topics = input('What topics does this question cover?\\n')\n",
    "\n",
    "    with open(csv_file,'a', newline='') as questions_csv:\n",
    "        writer = csv.DictWriter(questions_csv, fieldnames=['Question', 'Answer Options', 'Correct Answer', 'Topic(s)'])\n",
    "        writer.writerow({'Question': question.capitalize(),\n",
    "                     'Answer Options': answer_options,\n",
    "                     'Correct Answer': correct_answer,\n",
    "                     'Topic(s)': topics\n",
    "                    })\n",
    "        \n",
    "def initiate_study_session(csv_file = 'questions.csv'):\n",
    "    \"\"\"Opens a study session, selecting questions from the question file at random, getting\n",
    "    the user to select the right answer, and then comparing their answer with the correct one.\n",
    "    \"\"\"\n",
    "    with open(csv_file, newline='') as questions_csv:\n",
    "        reader = csv.DictReader(questions_csv)\n",
    "        import random\n",
    "        rows = [row for row in reader]\n",
    "            \n",
    "        continue_session = True\n",
    "        while continue_session:\n",
    "            # choose random question and display possible answers\n",
    "            question = random.choice(rows)\n",
    "            options = [option.strip(',') for option in question['Answer Options'].split()]\n",
    "            options_len = len(options)\n",
    "            print(f\"\\nQuestion: {question['Question']}\")\n",
    "            print(f\"Possible answers:\")\n",
    "            \n",
    "            # print possible answers with labels (1,2,3,4 etc)\n",
    "            for i in range(options_len):\n",
    "                print(f\"[{i+1}] {options[i]}\")\n",
    "            \n",
    "            # user picks answer and its validity is checked and then the correct answer is given\n",
    "            answer_validity = False\n",
    "            while answer_validity == False:\n",
    "                user_answer = int(input(\"What's your answer?  Choose a number: \"))\n",
    "                # print correct answer\n",
    "                if user_answer-1 not in range(options_len):\n",
    "                    print(\"\\nPlease pick a number from the list of possible answers.\")\n",
    "                    answer_validity = False\n",
    "                else:\n",
    "                    answer_validity = True\n",
    "            if options[user_answer-1] == question['Correct Answer']:\n",
    "                print(f\"\\nWell done!  That's the correct answer.\")\n",
    "            else:\n",
    "                print(f\"\\nSorry, the correct answer is {question['Correct Answer']}\")\n",
    "            \n",
    "            # prompt to have another go\n",
    "            user_prompt = input(\"Do you want to try another question? [y] or [n] \")\n",
    "            if user_prompt.upper() == 'Y':\n",
    "                continue_session = True\n",
    "            else:\n",
    "                continue_session = False"
   ]
  },
  {
   "cell_type": "markdown",
   "metadata": {},
   "source": [
    "## Main script for the app to run "
   ]
  },
  {
   "cell_type": "code",
   "execution_count": null,
   "metadata": {},
   "outputs": [],
   "source": [
    "create_csv()\n",
    "\n",
    "start_choice = ''\n",
    "while start_choice != 'q':\n",
    "    start_choice = input(\"\\nWhat would you like to do?\\n[a] ADD a new question\\n[s] START a new study session\\n[q] QUIT\\n\\nPlease select a, s or q :\")\n",
    "\n",
    "    if start_choice == 'a':\n",
    "        add_question()\n",
    "        \n",
    "    if start_choice == 's':\n",
    "        initiate_study_session()\n",
    "        \n",
    "print('Thank you and goodbye')"
   ]
  },
  {
   "cell_type": "markdown",
   "metadata": {},
   "source": [
    "**End**"
   ]
  }
 ],
 "metadata": {
  "kernelspec": {
   "display_name": "Python 3 (ipykernel)",
   "language": "python",
   "name": "python3"
  },
  "language_info": {
   "codemirror_mode": {
    "name": "ipython",
    "version": 3
   },
   "file_extension": ".py",
   "mimetype": "text/x-python",
   "name": "python",
   "nbconvert_exporter": "python",
   "pygments_lexer": "ipython3",
   "version": "3.10.9"
  }
 },
 "nbformat": 4,
 "nbformat_minor": 4
}
